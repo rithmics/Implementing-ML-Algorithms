{
 "cells": [
  {
   "cell_type": "markdown",
   "metadata": {},
   "source": [
    "# Linear Regression Implementation"
   ]
  },
  {
   "cell_type": "code",
   "execution_count": 7,
   "metadata": {},
   "outputs": [],
   "source": [
    "import numpy as np \n",
    "import pandas as pd \n",
    "import matplotlib.pyplot as plt\n",
    "import seaborn as sns; sns.set_style('darkgrid')"
   ]
  },
  {
   "cell_type": "code",
   "execution_count": 8,
   "metadata": {},
   "outputs": [],
   "source": [
    "# Create a toy dataset \n",
    "house_prices = np.array([500, 550, 650, 800, 825])\n",
    "rooms = np.array([1, 1, 2, 2, 2])\n",
    "baths = np.array([1, 2, 1, 3, 2])\n",
    "\n",
    "X = np.c_[rooms, baths]\n",
    "y = house_prices"
   ]
  },
  {
   "cell_type": "markdown",
   "metadata": {},
   "source": [
    "**Ordinary Least Squares (OLS) aka Linear Least Squares:**\n",
    "$$\n",
    "J(w)=\\frac{1}{2}\\sum_{i=1}^{n}\\,(y^{(i)}-\\hat{y}^{(i)})^2\n",
    "$$\n",
    "$$\n",
    "\\hat{y}=w^Tx\n",
    "$$"
   ]
  },
  {
   "cell_type": "code",
   "execution_count": 9,
   "metadata": {},
   "outputs": [],
   "source": [
    "from sklearn.metrics import mean_squared_error, r2_score\n",
    "\n",
    "class LinearRegressionGD(object):\n",
    "    def __init__(self, eta=0.001, n_iter=20, tol=0.001):\n",
    "        self.eta = eta\n",
    "        self.n_iter = n_iter\n",
    "        self.tol = tol\n",
    "        \n",
    "    def fit(self, X, y):\n",
    "        # Initialize weights at 0\n",
    "        self.w_ = np.zeros(1 + X.shape[1])\n",
    "        self.cost_ = []\n",
    "        \n",
    "        for i in range(self.n_iter):\n",
    "            output = self.net_input(X)\n",
    "            errors = y - output\n",
    "            self.w_[1:] += self.eta * X.T.dot(errors)\n",
    "            self.w_[0] += self.eta * errors.sum()\n",
    "            cost = (errors**2).sum() / 2.0\n",
    "            if len(self.cost_) > 1:\n",
    "                if (self.cost_[-1] - cost) <= self.tol:\n",
    "                    break \n",
    "            self.cost_.append(cost)    \n",
    "            self.intercept_ = self.w_[0]\n",
    "            self.n_iter_ = i + 1\n",
    "        return self\n",
    "            \n",
    "    def net_input(self, X):\n",
    "        return np.dot(X, self.w_[1:]) + self.w_[0]\n",
    "    \n",
    "    def predict(self, X):\n",
    "        return self.net_input(X)\n",
    "    \n",
    "    def score(self, y_true, y_pred, metric='r2'):\n",
    "        if metric == 'mse':\n",
    "            return mean_squared_error(y_true, y_pred, squared=True)\n",
    "        elif metric == 'rmse':\n",
    "            return mean_squared_error(y_true, y_pred, squared=False)\n",
    "        return r2_score(y_true, y_pred)"
   ]
  },
  {
   "cell_type": "code",
   "execution_count": 42,
   "metadata": {},
   "outputs": [],
   "source": [
    "test_rooms = np.array([1, 2, 1, 3, 3])\n",
    "test_baths = np.array([2, 2, 3, 1, 2])\n",
    "\n",
    "X_test = np.c_[test_rooms, test_baths]\n",
    "y_test = np.array([525, 600, 625, 500, 800])"
   ]
  },
  {
   "cell_type": "code",
   "execution_count": 43,
   "metadata": {},
   "outputs": [
    {
     "data": {
      "text/plain": [
       "<__main__.LinearRegressionGD at 0x7fb0ab5fb640>"
      ]
     },
     "execution_count": 43,
     "metadata": {},
     "output_type": "execute_result"
    }
   ],
   "source": [
    "lr = LinearRegressionGD(n_iter=100)\n",
    "lr.fit(X, y)"
   ]
  },
  {
   "cell_type": "code",
   "execution_count": 44,
   "metadata": {},
   "outputs": [],
   "source": [
    "y_pred = lr.predict(X_test)"
   ]
  },
  {
   "cell_type": "code",
   "execution_count": 45,
   "metadata": {},
   "outputs": [
    {
     "data": {
      "text/plain": [
       "array([572.46232698, 730.30158942, 732.5460798 , 728.05709903,\n",
       "       888.14085185])"
      ]
     },
     "execution_count": 45,
     "metadata": {},
     "output_type": "execute_result"
    }
   ],
   "source": [
    "y_pred"
   ]
  },
  {
   "cell_type": "code",
   "execution_count": 46,
   "metadata": {},
   "outputs": [
    {
     "data": {
      "text/plain": [
       "[<matplotlib.lines.Line2D at 0x7fb0ab73e100>]"
      ]
     },
     "execution_count": 46,
     "metadata": {},
     "output_type": "execute_result"
    },
    {
     "data": {
      "image/png": "[encoded data removed]",
      "text/plain": [
       "<Figure size 432x288 with 1 Axes>"
      ]
     },
     "metadata": {},
     "output_type": "display_data"
    }
   ],
   "source": [
    "plt.plot(lr.cost_)"
   ]
  },
  {
   "cell_type": "code",
   "execution_count": 48,
   "metadata": {},
   "outputs": [
    {
     "data": {
      "text/plain": [
       "-0.6246849533935579"
      ]
     },
     "execution_count": 48,
     "metadata": {},
     "output_type": "execute_result"
    }
   ],
   "source": [
    "lr.score(y_test, y_pred)"
   ]
  },
  {
   "cell_type": "code",
   "execution_count": 50,
   "metadata": {},
   "outputs": [
    {
     "name": "stdout",
     "output_type": "stream",
     "text": [
      "Best parameters: {'eta': 0.01, 'tol': 0.001, 'n_iter': 300}\n",
      "Best score: 0.751880753558969\n"
     ]
    }
   ],
   "source": [
    "eta = [0.001, 0.001, 0.01, 0.1, 1.0]\n",
    "tol = [0.001, 0.001, 0.01, 0.1, 1.0]\n",
    "n_iter = [50, 100, 150, 200, 300]\n",
    "\n",
    "scores = []\n",
    "params = []\n",
    "for e in eta:\n",
    "    for t in tol:\n",
    "        for i in n_iter:\n",
    "            clf = LinearRegressionGD(eta=e, tol=t, n_iter=i)\n",
    "            clf.fit(X_test, y)\n",
    "            y_pred = clf.predict(X_test)\n",
    "            scores.append(clf.score(y, y_pred))\n",
    "            params.append({'eta': e, 'tol': t, 'n_iter': i})\n",
    "            \n",
    "best_idx = scores.index(max(scores))\n",
    "print('Best parameters:', params[best_idx])\n",
    "print('Best score:', scores[best_idx])"
   ]
  },
  {
   "cell_type": "markdown",
   "metadata": {},
   "source": [
    "# Using the Normal Equation"
   ]
  },
  {
   "cell_type": "markdown",
   "metadata": {},
   "source": [
    "$$\\theta = (X^T X)^{-1}X^Ty$$"
   ]
  },
  {
   "cell_type": "code",
   "execution_count": 565,
   "metadata": {},
   "outputs": [
    {
     "name": "stdout",
     "output_type": "stream",
     "text": [
      "[462.5 112.5]\n"
     ]
    }
   ],
   "source": [
    "df_new = df['baths']\n",
    "X = np.ones((5, 2))\n",
    "X[:,1:] = df_new.values.reshape(-1, 1)\n",
    "X_trans = X.T\n",
    "theta = np.linalg.inv(X_trans.dot(X)).dot(X_trans).dot(y)\n",
    "print(theta)"
   ]
  },
  {
   "cell_type": "code",
   "execution_count": 593,
   "metadata": {},
   "outputs": [
    {
     "name": "stdout",
     "output_type": "stream",
     "text": [
      "[ 350. 1025.]\n"
     ]
    },
    {
     "data": {
      "image/png": "[encoded data removed]",
      "text/plain": [
       "<Figure size 432x288 with 1 Axes>"
      ]
     },
     "metadata": {},
     "output_type": "display_data"
    }
   ],
   "source": [
    "# test prediction  \n",
    "test_X = np.array([[-1], [5]])  \n",
    "test_X_b = np.c_[np.ones((2, 1)), test_X]  \n",
    "prediction = test_X_b.dot(theta)\n",
    "print(prediction)\n",
    "\n",
    "plt.plot(test_X, prediction, alpha=0.7, label='intercept {:.2f}'.format(theta[0]))  \n",
    "plt.plot(X, y, marker='.', linestyle='')\n",
    "plt.legend(loc='lower right')\n",
    "plt.xticks([0, 1, 2, 3])\n",
    "plt.xlim(-1, 4)\n",
    "plt.show() "
   ]
  },
  {
   "cell_type": "code",
   "execution_count": null,
   "metadata": {},
   "outputs": [],
   "source": []
  }
 ],
 "metadata": {
  "kernelspec": {
   "display_name": "Python 3 (ipykernel)",
   "language": "python",
   "name": "python3"
  },
  "language_info": {
   "codemirror_mode": {
    "name": "ipython",
    "version": 3
   },
   "file_extension": ".py",
   "mimetype": "text/x-python",
   "name": "python",
   "nbconvert_exporter": "python",
   "pygments_lexer": "ipython3",
   "version": "3.9.7"
  }
 },
 "nbformat": 4,
 "nbformat_minor": 4
}
