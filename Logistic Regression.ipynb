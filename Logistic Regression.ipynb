{
 "cells": [
  {
   "cell_type": "code",
   "execution_count": 8,
   "metadata": {},
   "outputs": [],
   "source": [
    "import numpy as np "
   ]
  },
  {
   "cell_type": "code",
   "execution_count": 49,
   "metadata": {},
   "outputs": [
    {
     "name": "stdout",
     "output_type": "stream",
     "text": [
      "[[0.99330715]\n",
      " [0.99330715]\n",
      " [0.99330715]\n",
      " [0.99330715]\n",
      " [0.99330715]]\n"
     ]
    },
    {
     "data": {
      "text/plain": [
       "array([[0.00671535]])"
      ]
     },
     "execution_count": 49,
     "metadata": {},
     "output_type": "execute_result"
    }
   ],
   "source": [
    "X = np.ones((5,2))\n",
    "theta = np.array([2, 3])\n",
    "pred = sigmoid(X.dot(theta)).reshape(-1, 1)\n",
    "y = np.array([1, 1, 1, 1, 1]).reshape(-1, 1)\n",
    "m = X.shape[0]\n",
    "\n",
    "cost = ((-y.T.dot(np.log(pred))) - ((1-y).T.dot(np.log(1-pred)))) / m \n",
    "cost "
   ]
  },
  {
   "cell_type": "code",
   "execution_count": 717,
   "metadata": {},
   "outputs": [],
   "source": [
    "from sklearn.metrics import f1_score, accuracy_score, classification_report\n",
    "\n",
    "\n",
    "class LogisticRegressionGD(object):\n",
    "    def __init__(self, alpha=0.1, n_iter=5000, tol=0.001, random_state=1):\n",
    "        self.alpha = alpha\n",
    "        self.n_iter = n_iter\n",
    "        self.tol = tol\n",
    "        self.random_state = random_state\n",
    "\n",
    "    def fit(self, X, y):\n",
    "        rgen = np.random.RandomState(self.random_state)\n",
    "        self.w_ = rgen.normal(loc=0.0, scale=0.01, size=X.shape[1])\n",
    "        self.cost_ = []\n",
    "        m = X.shape[0]\n",
    "\n",
    "        for i in range(self.n_iter):\n",
    "            pred = self.predict_proba(X)\n",
    "            errors = y - pred\n",
    "            cost = sum(-y.T * np.log(pred) - (1 - y).T * np.log(1 - pred))\n",
    "            if len(self.cost_) > 1:\n",
    "                if (self.cost_[-1] - cost) <= self.tol:\n",
    "                    print('Model met tol value of {} in {} iterations with a cost of {:.3f}.'.format(self.tol,\n",
    "                                                   self.n_iter_,\n",
    "                                                   self.cost_[-1]))\n",
    "                    break\n",
    "            self.cost_.append(cost)\n",
    "            self.w_ += self.alpha / m * X.T.dot(errors)\n",
    "            self.n_iter_ = i + 1\n",
    "\n",
    "        return self\n",
    "\n",
    "    def _sigmoid(self, z):\n",
    "        return 1 / (1 + np.exp(-z))\n",
    "\n",
    "    def _net_input(self, X):\n",
    "        return np.dot(X, self.w_)\n",
    "\n",
    "    def predict_proba(self, X):\n",
    "        return self._sigmoid(self._net_input(X))\n",
    "\n",
    "    def predict(self, X, thresh=0.5):\n",
    "        proba = self.predict_proba(X)\n",
    "        predictions = np.where(proba >= thresh, 1, 0)\n",
    "        return predictions\n",
    "\n",
    "    def score(self, y_true, y_pred, metric='accuracy', print_report=False):\n",
    "        if print_report:\n",
    "            print(classification_report(y_true, y_pred))\n",
    "\n",
    "        if metric == 'accuracy':\n",
    "            return accuracy_score(y_true, y_pred)\n",
    "        elif metric == 'f1':\n",
    "            return f1_score(y_true, y_pred)\n",
    "        else:\n",
    "            raise ValueError(\n",
    "                \"Expected 'f1'; got {}\".format(metric))\n",
    "\n",
    "    def get_best_thresh(self, X, y, thresholds=None):\n",
    "        if thresholds is None:\n",
    "            thresholds = np.arange(0.1, 1, 0.05)\n",
    "\n",
    "        scores = []\n",
    "        for thresh in thresholds:\n",
    "            y_pred = self.predict(X, thresh=thresh)\n",
    "            scores.append(clf.score(y, y_pred))\n",
    "        \n",
    "        print(thresholds[np.argmax(scores)])\n",
    "        return (thresholds, scores)"
   ]
  },
  {
   "cell_type": "code",
   "execution_count": 946,
   "metadata": {},
   "outputs": [],
   "source": [
    "from sklearn.metrics import f1_score, accuracy_score, classification_report\n",
    "\n",
    "class MultiLogisticRegressionGD(object):\n",
    "    def __init__(self, alpha=0.1, n_iter=5000, tol=0.001):\n",
    "        self.alpha = alpha\n",
    "        self.n_iter = n_iter\n",
    "        self.tol = tol\n",
    "\n",
    "    def fit(self, X, y):\n",
    "        m = X.shape[0]\n",
    "        class_labels = np.unique(y)\n",
    "        \n",
    "        if len(class_labels) == 2: \n",
    "            self.w_ = [np.random.randn(X.shape[1]) * 0.001]\n",
    "            self.cost_ = [[]]\n",
    "            self.n_iter_ = [[]]\n",
    "            for i in range(self.n_iter):\n",
    "                pred = self.predict_proba(X)\n",
    "                errors = y - pred\n",
    "                cost = self._compute_cost(y, pred) #sum(-y.T * np.log(pred) - (1 - y).T * np.log(1 - pred))\n",
    "                if len(self.cost_[0]) > 1:\n",
    "                    if (self.cost_[0][-1] - cost) <= self.tol:\n",
    "                        break\n",
    "                self.cost_[0].append(cost)\n",
    "                self.w_[0] += self.alpha / m * X.T.dot(errors)\n",
    "                self.n_iter_[0] = i + 1\n",
    "        elif len(class_labels) > 2:\n",
    "            # Use One-vs-Rest method for multiclass classification\n",
    "            self.w_ = [np.random.randn(X.shape[1]) * 0.001 for label in class_labels]\n",
    "            self.cost_ = [[] for label in class_labels]\n",
    "            self.n_iter_ = [[] for label in class_labels]\n",
    "            for class_label in class_labels:\n",
    "                y_temp = np.where(y == class_label, 1, 0)\n",
    "                # Minimize cost with batch gradient descent\n",
    "                for i in range(self.n_iter):\n",
    "                    pred = self.predict_class_proba(X, class_label)\n",
    "                    errors = y_temp - pred\n",
    "                    cost = self._compute_cost(y_temp, pred)\n",
    "                    # Break loop if model converged per tol value\n",
    "                    if len(self.cost_[class_label]) > 1:\n",
    "                        if (self.cost_[class_label][-1] - cost) <= self.tol:\n",
    "                            break\n",
    "                    self.cost_[class_label].append(cost)\n",
    "                    self.w_[class_label] += self.alpha / m * X.T.dot(errors)\n",
    "                    self.n_iter_[class_label] = i + 1\n",
    "\n",
    "        return self\n",
    "    \n",
    "    def _compute_cost(self, y_true, y_pred):\n",
    "        return sum(-y_true.T * np.log(y_pred) - (1 - y_true).T * np.log(1 - y_pred))\n",
    "\n",
    "    def _sigmoid(self, z):\n",
    "        return 1 / (1 + np.exp(-z))\n",
    "\n",
    "    def _net_input(self, X, weight_idx=0):\n",
    "        return np.dot(X, self.w_[weight_idx])\n",
    "    \n",
    "    def predict_class_proba(self, X, weight_idx=0):\n",
    "        return self._sigmoid(self._net_input(X, weight_idx))\n",
    "\n",
    "    def predict_proba(self, X):\n",
    "        output = np.zeros((X.shape[0], len(self.w_)))\n",
    "        for w in range(len(self.w_)):\n",
    "            output[:,w] = self.predict_class_proba(X, w)\n",
    "        if len(self.w_) == 1:\n",
    "            return output.flatten()\n",
    "        else:\n",
    "            return output\n",
    "            \n",
    "    def predict(self, X, thresh=0.5):\n",
    "        # thresh controls the prediction threshold\n",
    "        # ignored for multiclass classification\n",
    "        proba = self.predict_proba(X)\n",
    "        if len(self.w_) == 1:\n",
    "            return np.where(proba >= thresh, 1, 0)\n",
    "        else:\n",
    "            return np.argmax(proba, axis=1)\n",
    "    \n",
    "    def score(self, y_true, y_pred, metric='accuracy', print_report=False):\n",
    "        if print_report:\n",
    "            print(classification_report(y_true, y_pred))\n",
    "            \n",
    "        if metric == 'accuracy':\n",
    "            return accuracy_score(y_true, y_pred)\n",
    "        elif metric == 'f1':\n",
    "            return f1_score(y_true, y_pred)\n",
    "        else:\n",
    "            raise ValueError(\n",
    "                \"Expected 'accuracy' or 'f1'; got {}\".format(metric))\n",
    "            \n",
    "    def get_best_thresh(self, X, thresholds=None):\n",
    "        if thresholds is None:\n",
    "            thresholds = np.arange(0.1, 1, 0.05)\n",
    "        \n",
    "        scores = []\n",
    "        for thresh in thresholds:\n",
    "            y_pred = self.predict(X, thresh=thresh)\n",
    "            scores.append(clf.score(y, y_pred))\n",
    "            \n",
    "        return thresholds[np.argmax(scores)]"
   ]
  },
  {
   "cell_type": "code",
   "execution_count": 947,
   "metadata": {},
   "outputs": [],
   "source": [
    "# from sklearn.utils import shuffle\n",
    "from sklearn.datasets import load_iris\n",
    "iris = load_iris()\n",
    "X = iris.data[:100]\n",
    "y = iris.target[:100]\n",
    "X, y = shuffle(X, y)"
   ]
  },
  {
   "cell_type": "code",
   "execution_count": 948,
   "metadata": {},
   "outputs": [],
   "source": [
    "import jpy \n",
    "X_std = jpy.scale(X)"
   ]
  },
  {
   "cell_type": "code",
   "execution_count": 949,
   "metadata": {},
   "outputs": [
    {
     "data": {
      "text/plain": [
       "<__main__.MultiLogisticRegressionGD at 0x1a30fe9610>"
      ]
     },
     "execution_count": 949,
     "metadata": {},
     "output_type": "execute_result"
    }
   ],
   "source": [
    "lr = MultiLogisticRegressionGD(alpha=0.1, tol=0.0001, n_iter=20000)\n",
    "lr.fit(X_std, y)"
   ]
  },
  {
   "cell_type": "code",
   "execution_count": 954,
   "metadata": {},
   "outputs": [
    {
     "data": {
      "text/plain": [
       "array([0.001, 1.   , 0.008, 1.   , 0.998, 0.   , 0.001, 0.003, 0.005,\n",
       "       0.   , 0.   , 0.005, 0.   , 0.002, 0.001, 0.002, 1.   , 0.   ,\n",
       "       0.   , 0.001, 0.001, 0.001, 0.001, 0.001, 0.001, 0.999, 0.   ,\n",
       "       1.   , 0.   , 1.   , 0.983, 0.   , 1.   , 0.002, 0.001, 0.999,\n",
       "       0.001, 0.997, 0.999, 0.999, 1.   , 0.001, 0.998, 0.001, 1.   ,\n",
       "       0.999, 0.989, 0.   , 0.993, 1.   , 0.999, 0.002, 0.001, 0.   ,\n",
       "       0.999, 0.995, 0.999, 0.001, 0.999, 0.   , 0.001, 0.004, 0.997,\n",
       "       0.996, 0.998, 0.999, 0.999, 0.001, 0.966, 0.004, 0.996, 1.   ,\n",
       "       0.001, 0.99 , 0.995, 0.969, 0.033, 0.999, 1.   , 0.001, 1.   ,\n",
       "       0.002, 1.   , 0.001, 1.   , 0.993, 0.998, 0.997, 0.   , 1.   ,\n",
       "       0.001, 0.003, 0.998, 0.001, 0.997, 1.   , 1.   , 0.002, 0.999,\n",
       "       0.001])"
      ]
     },
     "execution_count": 954,
     "metadata": {},
     "output_type": "execute_result"
    }
   ],
   "source": [
    "y_pred = lr.predict_proba(X_std)\n",
    "np.round(y_pred,3)"
   ]
  },
  {
   "cell_type": "code",
   "execution_count": 934,
   "metadata": {},
   "outputs": [
    {
     "data": {
      "text/plain": [
       "[3795, 630, 1033]"
      ]
     },
     "execution_count": 934,
     "metadata": {},
     "output_type": "execute_result"
    }
   ],
   "source": [
    "lr.n_iter_"
   ]
  },
  {
   "cell_type": "code",
   "execution_count": 696,
   "metadata": {},
   "outputs": [],
   "source": [
    "def shuffle2(X, y):\n",
    "    idxs = np.random.permutation(len(y))\n",
    "    return (X[idxs], y[idxs])"
   ]
  },
  {
   "cell_type": "code",
   "execution_count": 748,
   "metadata": {},
   "outputs": [],
   "source": [
    "from sklearn.datasets import load_breast_cancer\n",
    "data = load_breast_cancer()\n",
    "X = data.data \n",
    "y = data.target\n",
    "X, y = shuffle2(X, y)"
   ]
  },
  {
   "cell_type": "code",
   "execution_count": 755,
   "metadata": {},
   "outputs": [],
   "source": [
    "X_std = jpy.scale(X)\n",
    "from sklearn.model_selection import train_test_split\n",
    "X_train, X_test, y_train, y_test = train_test_split(X_std, y)"
   ]
  },
  {
   "cell_type": "code",
   "execution_count": 756,
   "metadata": {},
   "outputs": [
    {
     "name": "stdout",
     "output_type": "stream",
     "text": [
      "Model met tol value of 0.001 in 2387 iterations with a cost of 14.449.\n"
     ]
    },
    {
     "data": {
      "text/plain": [
       "<__main__.LogisticRegressionGD at 0x1a33a03f50>"
      ]
     },
     "execution_count": 756,
     "metadata": {},
     "output_type": "execute_result"
    }
   ],
   "source": [
    "lr2 = LogisticRegressionGD(alpha=0.5, n_iter=20000)\n",
    "lr2.fit(X_train, y_train)"
   ]
  },
  {
   "cell_type": "code",
   "execution_count": 757,
   "metadata": {},
   "outputs": [
    {
     "data": {
      "text/plain": [
       "[<matplotlib.lines.Line2D at 0x1a2dde0c10>]"
      ]
     },
     "execution_count": 757,
     "metadata": {},
     "output_type": "execute_result"
    },
    {
     "data": {
      "image/png": "[encoded data removed]",
      "text/plain": [
       "<Figure size 576x396 with 1 Axes>"
      ]
     },
     "metadata": {},
     "output_type": "display_data"
    }
   ],
   "source": [
    "plt.plot(range(lr2.n_iter_), lr2.cost_)"
   ]
  },
  {
   "cell_type": "code",
   "execution_count": 758,
   "metadata": {},
   "outputs": [
    {
     "name": "stdout",
     "output_type": "stream",
     "text": [
      "0.3225\n",
      "0.17\n"
     ]
    },
    {
     "data": {
      "text/plain": [
       "<matplotlib.legend.Legend at 0x1a3134b450>"
      ]
     },
     "execution_count": 758,
     "metadata": {},
     "output_type": "execute_result"
    },
    {
     "data": {
      "image/png": "[encoded data removed]",
      "text/plain": [
       "<Figure size 576x396 with 1 Axes>"
      ]
     },
     "metadata": {},
     "output_type": "display_data"
    }
   ],
   "source": [
    "t = np.arange(0, 1, 0.0025)\n",
    "train_thresh, train_scores = lr2.get_best_thresh(X_train, y_train, thresholds=t)\n",
    "test_thresh, test_scores = lr2.get_best_thresh(X_test, y_test, thresholds=t)\n",
    "plt.plot(train_thresh, train_scores, label='training')\n",
    "plt.plot(test_thresh, test_scores, label='testing')\n",
    "plt.legend()"
   ]
  },
  {
   "cell_type": "code",
   "execution_count": 760,
   "metadata": {},
   "outputs": [
    {
     "name": "stdout",
     "output_type": "stream",
     "text": [
      "Training score: 0.9906103286384976\n",
      "Testing score: 0.9790209790209791\n"
     ]
    }
   ],
   "source": [
    "pred = lr2.predict(X_train, thresh=0.4)\n",
    "pred2 = lr2.predict(X_test, thresh=0.4)\n",
    "print('Training score:', lr2.score(y_train, pred))\n",
    "print('Testing score:', lr2.score(y_test, pred2))"
   ]
  },
  {
   "cell_type": "code",
   "execution_count": 691,
   "metadata": {},
   "outputs": [],
   "source": [
    "import matplotlib.cm as cm \n",
    "from matplotlib.colors import ListedColormap\n",
    "\n",
    "def plot_decision_regions2(X, y, classifier, test_idx=None, res=0.02):\n",
    "    markers = ('s', 'x', 'o', '^', 'v')\n",
    "    cmap = cm.get_cmap('rainbow')\n",
    "    colors = []\n",
    "    for i in np.arange(0.1, 1.0, 0.1):\n",
    "        colors.append(cmap(i))\n",
    "    cmap = ListedColormap(colors[:len(np.unique(y))])\n",
    "    \n",
    "    x1_min, x1_max = X[:, 0].min() - 1, X[:, 0].max() + 1\n",
    "    x2_min, x2_max = X[:, 1].min() - 1, X[:, 1].max() + 1\n",
    "    xx1, xx2 = np.meshgrid(np.arange(x1_min, x1_max, res),\n",
    "                           np.arange(x2_min, x2_max, res))\n",
    "    Z = classifier.predict(np.array([xx1.ravel(), xx2.ravel()]).T)\n",
    "    Z = Z.reshape(xx1.shape)\n",
    "    plt.contourf(xx1, xx2, Z, alpha=0.1, cmap=cmap)\n",
    "    plt.xlim(xx1.min(), xx1.max())\n",
    "    plt.ylim(xx2.min(), xx2.max())\n",
    "    for idx, cl in enumerate(np.unique(y)):\n",
    "        plt.scatter(X[y == cl, 0], X[y == cl, 1], marker=markers[idx], c=np.array(colors[idx]).reshape(1, -1), alpha=0.6, label=cl, edgecolor='black')\n",
    "    plt.legend(loc='best')\n",
    "    plt.show()\n"
   ]
  },
  {
   "cell_type": "code",
   "execution_count": 692,
   "metadata": {},
   "outputs": [],
   "source": [
    "from mlxtend.plotting import plot_decision_regions"
   ]
  },
  {
   "cell_type": "code",
   "execution_count": 693,
   "metadata": {},
   "outputs": [
    {
     "name": "stdout",
     "output_type": "stream",
     "text": [
      "Model met tol value of 0.001 in 738 iterations                     with a cost of 70.900.\n"
     ]
    },
    {
     "data": {
      "text/plain": [
       "<__main__.LogisticRegressionGD at 0x1a27da5090>"
      ]
     },
     "execution_count": 693,
     "metadata": {},
     "output_type": "execute_result"
    }
   ],
   "source": [
    "from sklearn.decomposition import PCA\n",
    "pca = PCA(n_components=2)\n",
    "X_pca = pca.fit_transform(X_std)\n",
    "\n",
    "lr3 = LogisticRegressionGD()\n",
    "lr3.fit(X_pca, y)"
   ]
  },
  {
   "cell_type": "code",
   "execution_count": 694,
   "metadata": {},
   "outputs": [
    {
     "data": {
      "image/png": "[encoded data removed]",
      "text/plain": [
       "<Figure size 576x396 with 1 Axes>"
      ]
     },
     "metadata": {},
     "output_type": "display_data"
    }
   ],
   "source": [
    "plot_decision_regions2(X_pca, y, lr3)"
   ]
  },
  {
   "cell_type": "code",
   "execution_count": 769,
   "metadata": {},
   "outputs": [
    {
     "data": {
      "text/plain": [
       "array([[ 1.5514867 , -0.26520386,  1.59533627, ...,  1.67635361,\n",
       "         1.20078842,  0.45907476],\n",
       "       [-1.26423005, -1.43106449, -1.14710726, ..., -0.1082036 ,\n",
       "        -0.08534717,  2.90679142],\n",
       "       [-0.51897679, -0.78879396, -0.54119942, ..., -1.01190215,\n",
       "        -0.67745487, -1.15740463],\n",
       "       ...,\n",
       "       [-0.35140842, -0.8353353 , -0.32495087, ..., -0.19651786,\n",
       "        -1.45884291, -0.70244077],\n",
       "       [-0.79731071,  1.81286709, -0.83241413, ..., -1.42789279,\n",
       "        -0.08372939, -0.7246071 ],\n",
       "       [ 1.71905507,  0.05825847,  1.72302589, ...,  1.56367679,\n",
       "         0.21232446, -0.17709882]])"
      ]
     },
     "execution_count": 769,
     "metadata": {},
     "output_type": "execute_result"
    }
   ],
   "source": [
    "X_std "
   ]
  },
  {
   "cell_type": "code",
   "execution_count": 794,
   "metadata": {},
   "outputs": [],
   "source": [
    "import jpy"
   ]
  },
  {
   "cell_type": "code",
   "execution_count": 795,
   "metadata": {},
   "outputs": [
    {
     "ename": "NameError",
     "evalue": "name 'PCA' is not defined",
     "output_type": "error",
     "traceback": [
      "\u001b[0;31m---------------------------------------------------------------------------\u001b[0m",
      "\u001b[0;31mNameError\u001b[0m                                 Traceback (most recent call last)",
      "\u001b[0;32m<ipython-input-795-02093ce90c85>\u001b[0m in \u001b[0;36m<module>\u001b[0;34m\u001b[0m\n\u001b[0;32m----> 1\u001b[0;31m \u001b[0mplot_pca_variance\u001b[0m\u001b[0;34m(\u001b[0m\u001b[0mX_std\u001b[0m\u001b[0;34m,\u001b[0m \u001b[0;36m15\u001b[0m\u001b[0;34m)\u001b[0m\u001b[0;34m\u001b[0m\u001b[0;34m\u001b[0m\u001b[0m\n\u001b[0m",
      "\u001b[0;32m~/jpy/jpy.py\u001b[0m in \u001b[0;36mplot_pca_variance\u001b[0;34m(X, n_components)\u001b[0m\n\u001b[1;32m     17\u001b[0m \u001b[0;32mdef\u001b[0m \u001b[0mplot_decision_regions\u001b[0m\u001b[0;34m(\u001b[0m\u001b[0mX\u001b[0m\u001b[0;34m,\u001b[0m \u001b[0my\u001b[0m\u001b[0;34m,\u001b[0m \u001b[0mclassifier\u001b[0m\u001b[0;34m,\u001b[0m \u001b[0mtest_idx\u001b[0m\u001b[0;34m=\u001b[0m\u001b[0;32mNone\u001b[0m\u001b[0;34m,\u001b[0m \u001b[0mres\u001b[0m\u001b[0;34m=\u001b[0m\u001b[0;36m0.02\u001b[0m\u001b[0;34m)\u001b[0m\u001b[0;34m:\u001b[0m\u001b[0;34m\u001b[0m\u001b[0;34m\u001b[0m\u001b[0m\n\u001b[1;32m     18\u001b[0m     \u001b[0mmarkers\u001b[0m \u001b[0;34m=\u001b[0m \u001b[0;34m(\u001b[0m\u001b[0;34m's'\u001b[0m\u001b[0;34m,\u001b[0m \u001b[0;34m'x'\u001b[0m\u001b[0;34m,\u001b[0m \u001b[0;34m'o'\u001b[0m\u001b[0;34m,\u001b[0m \u001b[0;34m'^'\u001b[0m\u001b[0;34m,\u001b[0m \u001b[0;34m'v'\u001b[0m\u001b[0;34m)\u001b[0m\u001b[0;34m\u001b[0m\u001b[0;34m\u001b[0m\u001b[0m\n\u001b[0;32m---> 19\u001b[0;31m     \u001b[0mcmap\u001b[0m \u001b[0;34m=\u001b[0m \u001b[0mcm\u001b[0m\u001b[0;34m.\u001b[0m\u001b[0mget_cmap\u001b[0m\u001b[0;34m(\u001b[0m\u001b[0;34m'rainbow'\u001b[0m\u001b[0;34m)\u001b[0m\u001b[0;34m\u001b[0m\u001b[0;34m\u001b[0m\u001b[0m\n\u001b[0m\u001b[1;32m     20\u001b[0m     \u001b[0mcolors\u001b[0m \u001b[0;34m=\u001b[0m \u001b[0;34m[\u001b[0m\u001b[0;34m]\u001b[0m\u001b[0;34m\u001b[0m\u001b[0;34m\u001b[0m\u001b[0m\n\u001b[1;32m     21\u001b[0m     \u001b[0;32mfor\u001b[0m \u001b[0mi\u001b[0m \u001b[0;32min\u001b[0m \u001b[0mnp\u001b[0m\u001b[0;34m.\u001b[0m\u001b[0marange\u001b[0m\u001b[0;34m(\u001b[0m\u001b[0;36m0.1\u001b[0m\u001b[0;34m,\u001b[0m \u001b[0;36m1.0\u001b[0m\u001b[0;34m,\u001b[0m \u001b[0;36m0.1\u001b[0m\u001b[0;34m)\u001b[0m\u001b[0;34m:\u001b[0m\u001b[0;34m\u001b[0m\u001b[0;34m\u001b[0m\u001b[0m\n",
      "\u001b[0;31mNameError\u001b[0m: name 'PCA' is not defined"
     ]
    }
   ],
   "source": [
    "plot_pca_variance(X_std, 15)"
   ]
  },
  {
   "cell_type": "code",
   "execution_count": null,
   "metadata": {},
   "outputs": [],
   "source": []
  }
 ],
 "metadata": {
  "kernelspec": {
   "display_name": "Python 3",
   "language": "python",
   "name": "python3"
  },
  "language_info": {
   "codemirror_mode": {
    "name": "ipython",
    "version": 3
   },
   "file_extension": ".py",
   "mimetype": "text/x-python",
   "name": "python",
   "nbconvert_exporter": "python",
   "pygments_lexer": "ipython3",
   "version": "3.8.5"
  }
 },
 "nbformat": 4,
 "nbformat_minor": 4
}
